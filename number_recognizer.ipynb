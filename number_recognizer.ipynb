{
 "cells": [
  {
   "cell_type": "code",
   "execution_count": 1,
   "metadata": {},
   "outputs": [],
   "source": [
    "import gzip\n",
    "import numpy as np\n",
    "def load_image(filename):\n",
    "    with gzip.open(filename) as f:\n",
    "        data=np.frombuffer(f.read(), dtype=np.uint8, offset=16)\n",
    "        data=data.reshape((60000,784))\n",
    "    return data\n",
    "def load_label(filename):\n",
    "    with gzip.open(filename) as f:\n",
    "        data=np.frombuffer(f.read(), dtype=np.uint8, offset=8)\n",
    "    return data\n",
    "X_train=load_image('train-images-idx3-ubyte.gz')\n",
    "Y_train=load_label('train-labels-idx1-ubyte.gz')"
   ]
  },
  {
   "cell_type": "code",
   "execution_count": 2,
   "metadata": {},
   "outputs": [
    {
     "name": "stdout",
     "output_type": "stream",
     "text": [
      "(1, 60000)\n"
     ]
    }
   ],
   "source": [
    "Y_train = Y_train.reshape(1,-1)\n",
    "print(Y_train.shape)"
   ]
  },
  {
   "cell_type": "code",
   "execution_count": 3,
   "metadata": {},
   "outputs": [
    {
     "name": "stdout",
     "output_type": "stream",
     "text": [
      "(60000, 28, 28)\n"
     ]
    },
    {
     "data": {
      "text/plain": [
       "<matplotlib.image.AxesImage at 0x2e7a3d739e8>"
      ]
     },
     "execution_count": 3,
     "metadata": {},
     "output_type": "execute_result"
    },
    {
     "data": {
      "image/png": "[encoded data removed]",
      "text/plain": [
       "<Figure size 432x288 with 1 Axes>"
      ]
     },
     "metadata": {
      "needs_background": "light"
     },
     "output_type": "display_data"
    }
   ],
   "source": [
    "X_train=X_train.reshape(-1,28,28)\n",
    "X_train = X_train/255\n",
    "import matplotlib.pyplot as plt\n",
    "print(X_train.shape)\n",
    "plt.imshow(X_train[0])"
   ]
  },
  {
   "cell_type": "code",
   "execution_count": 4,
   "metadata": {},
   "outputs": [],
   "source": [
    "X_train = X_train.reshape(-1, 28*28).T\n",
    "def initialize_parameters(nx,m):\n",
    "    W=np.random.randn(10,nx)\n",
    "    b=np.zeros((10,1))\n",
    "    return (W,b)     "
   ]
  },
  {
   "cell_type": "code",
   "execution_count": 5,
   "metadata": {},
   "outputs": [
    {
     "name": "stdout",
     "output_type": "stream",
     "text": [
      "(10, 60000)\n"
     ]
    }
   ],
   "source": [
    "Y_train = np.eye(10)[Y_train.reshape(-1)].T\n",
    "print(Y_train.shape)"
   ]
  },
  {
   "cell_type": "code",
   "execution_count": 6,
   "metadata": {},
   "outputs": [],
   "source": [
    "def softmax(Z):\n",
    "    A=np.exp(Z)/np.sum(np.exp(Z),axis=0)\n",
    "    return A"
   ]
  },
  {
   "cell_type": "code",
   "execution_count": 7,
   "metadata": {},
   "outputs": [],
   "source": [
    "def forward_propagation(X,W,b):\n",
    "    Z=np.dot(W,X)+b\n",
    "    #print(\"Z = \", Z)\n",
    "    A=softmax(Z)\n",
    "    #print(\"A = \", A)\n",
    "    return A"
   ]
  },
  {
   "cell_type": "code",
   "execution_count": 8,
   "metadata": {},
   "outputs": [],
   "source": [
    "def compute_cost(Y,A):\n",
    "    m=Y.shape[1]\n",
    "    c = (-1/m)*np.sum(Y*np.log(A))\n",
    "    return c  "
   ]
  },
  {
   "cell_type": "code",
   "execution_count": 9,
   "metadata": {},
   "outputs": [
    {
     "name": "stdout",
     "output_type": "stream",
     "text": [
      "[-1.35889381 -0.36885417 -0.44732209  1.93123012  0.19466279  1.98499831\n",
      "  0.52971006  1.12733194  0.39548112  1.27577028]\n",
      "(10, 1)\n"
     ]
    }
   ],
   "source": [
    "m = X_train.shape[1]\n",
    "nx = X_train.shape[0]\n",
    "W, b = initialize_parameters(nx, m)\n",
    "print(W[:, 1])\n",
    "print(b.shape)"
   ]
  },
  {
   "cell_type": "code",
   "execution_count": 10,
   "metadata": {},
   "outputs": [
    {
     "name": "stdout",
     "output_type": "stream",
     "text": [
      "[3.21432078e-10 3.73993207e-03 3.03150692e-04 1.67948754e-09\n",
      " 2.83787080e-07 9.65019279e-01 1.37548883e-02 1.69437582e-02\n",
      " 1.34044368e-06 2.37365266e-04]\n",
      "[0. 0. 0. 0. 0. 1. 0. 0. 0. 0.]\n",
      "13.810744825063294\n"
     ]
    }
   ],
   "source": [
    "A = forward_propagation(X_train, W, b)\n",
    "print(A[:,0])\n",
    "print(Y_train[:,0])\n",
    "cost = compute_cost(Y_train, A)\n",
    "print(cost)"
   ]
  },
  {
   "cell_type": "code",
   "execution_count": 11,
   "metadata": {},
   "outputs": [],
   "source": [
    "def back_propagation(A, X, Y, W, b, learning_rate = 0.1):\n",
    "    dZ = A - Y    # /m  divide by m\n",
    "    #print('dZ =', dZ[:, 1])\n",
    "    #print('W =', W[:, 1])\n",
    "    dW = np.dot(dZ,X.T)\n",
    "    #gradient clipping\n",
    "    for i in range(dW.shape[0]):\n",
    "        for j in range(dW.shape[1]):\n",
    "            if dW[i, j] < -0.5:\n",
    "                dW[i, j] = -0.5\n",
    "            if dW[i, j] > 0.5:\n",
    "                dW[i, j] = 0.5\n",
    "    #print('dW.shape =', dW.shape)\n",
    "    #print('dW =', dW[:, 1])\n",
    "    db = dZ[:,1].reshape(10, 1)\n",
    "    #print('db.shape=', db.shape)\n",
    "    W = W - learning_rate * dW\n",
    "    b = b - learning_rate * db\n",
    "    #print('b.shape =', b.shape)\n",
    "    return W,b"
   ]
  },
  {
   "cell_type": "code",
   "execution_count": 12,
   "metadata": {},
   "outputs": [
    {
     "name": "stdout",
     "output_type": "stream",
     "text": [
      "W = [ 0.59592742  0.33366521  0.52449971  0.88588116 -0.03085525 -0.42342012\n",
      " -0.49836601  0.17529812 -0.82126523  0.94844937]\n",
      "b = [ 9.67931979e-02 -2.92908527e-02 -8.75954159e-08 -1.25486137e-07\n",
      " -5.14199501e-07 -1.81880969e-05 -5.40380075e-03 -6.19706053e-02\n",
      " -3.68766621e-11 -1.09023652e-04]\n"
     ]
    }
   ],
   "source": [
    "W, b= back_propagation(A, X_train, Y_train, W, b)\n",
    "print('W =',W[:, 0])\n",
    "print('b =',b[:, 0])"
   ]
  },
  {
   "cell_type": "code",
   "execution_count": 84,
   "metadata": {},
   "outputs": [
    {
     "name": "stdout",
     "output_type": "stream",
     "text": [
      "0.27424118592954605\n",
      "0.2742094887949655\n",
      "0.2741799297274813\n",
      "0.27414827138459114\n",
      "0.2741185957481013\n",
      "0.2740868892296241\n",
      "0.27405725005510323\n",
      "0.27402574771324745\n",
      "0.27399645499321745\n",
      "0.27396543281608665\n",
      "0.2739367657478999\n",
      "0.27390642216306366\n",
      "0.27387814528815746\n",
      "0.27384817781738413\n",
      "0.2738199446429489\n",
      "0.2737900188911945\n",
      "0.2737617365746795\n",
      "0.27373176353096546\n",
      "0.27370336704977605\n",
      "0.27367323064553617\n",
      "0.2736446991435883\n",
      "0.27361440475507687\n",
      "0.2735857767790229\n",
      "0.2735553951166144\n",
      "0.27352670586953803\n",
      "0.273496281163178\n",
      "0.2734675346780316\n",
      "0.27343706290953457\n",
      "0.27340817274309853\n",
      "0.2733775552939889\n",
      "0.2733483088624442\n",
      "0.2733173852575384\n",
      "0.27328747515085877\n",
      "0.2732562220413325\n",
      "0.27322560795853873\n",
      "0.273194125279889\n",
      "0.2731631077395876\n",
      "0.27313162932910245\n",
      "0.2731007325228008\n",
      "0.27306958645458085\n",
      "0.2730391968215654\n",
      "0.27300846510423904\n",
      "0.272979019479327\n",
      "0.27294891525352616\n",
      "0.27292094653313476\n",
      "0.2728921575402563\n",
      "0.27286532923781787\n",
      "0.2728373745176799\n",
      "0.2728105914249438\n",
      "0.2727822169664017\n",
      "0.27275490907098104\n",
      "0.2727258241170909\n",
      "0.2726981193230021\n",
      "0.2726685041899756\n",
      "0.2726405418706956\n",
      "0.272610665889109\n",
      "0.2725825295746966\n",
      "0.27255258161745444\n",
      "0.2725244212407473\n",
      "0.27249463927444795\n",
      "0.2724667552133114\n",
      "0.2724375153133918\n",
      "0.27241034837928374\n",
      "0.2723821166812586\n",
      "0.2723560304460491\n",
      "0.2723287393997166\n",
      "0.27230315520990994\n",
      "0.27227640976311485\n",
      "0.2722512348554445\n",
      "0.27222494459634217\n",
      "0.27220009101382286\n",
      "0.27217355991470393\n",
      "0.27214820947319185\n",
      "0.2721209474811851\n",
      "0.27209515054843014\n",
      "0.2720676262706255\n",
      "0.27204171494589313\n",
      "0.2720145715969131\n",
      "0.2719892534451316\n",
      "0.2719634455059136\n",
      "0.2719387861755436\n",
      "0.27191332653709005\n",
      "0.2718881411180803\n",
      "0.27186239913237165\n",
      "0.2718369103893444\n",
      "0.2718110698935916\n",
      "0.2717856055175258\n",
      "0.2717599407578308\n",
      "0.2717348001036448\n",
      "0.27170958094296904\n",
      "0.2716850221634736\n",
      "0.2716603994349175\n",
      "0.2716363974338557\n",
      "0.27161220785312823\n",
      "0.2715885243073877\n",
      "0.27156442223339444\n",
      "0.2715406595346098\n",
      "0.2715160493507353\n",
      "0.27149191114086896\n"
     ]
    }
   ],
   "source": [
    "#train for more iterations with varying(decreasing) learning rate until there is no remarkable change in the cost function\n",
    "for i in range(1, 100): \n",
    "    A = forward_propagation(X_train, W, b)\n",
    "    cost = compute_cost(Y_train, A)\n",
    "    print(cost)\n",
    "    W, b= back_propagation(A, X_train, Y_train, W, b, learning_rate = 0.001)"
   ]
  },
  {
   "cell_type": "code",
   "execution_count": 85,
   "metadata": {
    "scrolled": true
   },
   "outputs": [
    {
     "name": "stdout",
     "output_type": "stream",
     "text": [
      "0.27149191114086896\n"
     ]
    }
   ],
   "source": [
    "print(cost)"
   ]
  },
  {
   "cell_type": "code",
   "execution_count": 25,
   "metadata": {},
   "outputs": [
    {
     "name": "stdout",
     "output_type": "stream",
     "text": [
      "[ 0.59592742  0.33366521  0.52449971  0.88588116 -0.03085525 -0.42342012\n",
      " -0.49836601  0.17529812 -0.82126523  0.94844937]\n",
      "[ 1.01314147e-01 -2.92960937e-02 -6.38497751e-06 -4.24185270e-04\n",
      " -5.29950981e-07 -3.37423095e-03 -5.41447326e-03 -6.20305763e-02\n",
      " -2.50221404e-08 -7.67647192e-04]\n",
      "(10, 1)\n"
     ]
    }
   ],
   "source": [
    "print(W[:,0])\n",
    "print(b[:,0])\n",
    "print(b.shape)"
   ]
  },
  {
   "cell_type": "code",
   "execution_count": 86,
   "metadata": {},
   "outputs": [],
   "source": [
    "#this is to save the learnt parameters, don't run this if you have not run cells to learn the parameters through the train set\n",
    "np.savetxt('parametersW.csv', W, delimiter = ',')\n",
    "np.savetxt('parametersb.csv', b, delimiter = ',')"
   ]
  },
  {
   "cell_type": "code",
   "execution_count": null,
   "metadata": {},
   "outputs": [],
   "source": [
    "#load parameters from files that is trained for 2500 iterations with varying learning rate\n",
    "W1 = np.loadtxt('parametersW.csv', delimiter = ',')\n",
    "b1 = np.loadtxt('parametersb.csv', delimiter = ',')\n",
    "print(b1.shape)\n",
    "print(W1.shape)\n",
    "b1 = b1.reshape(10, 1)\n",
    "print(b1.shape)"
   ]
  },
  {
   "cell_type": "code",
   "execution_count": 103,
   "metadata": {},
   "outputs": [],
   "source": [
    "def load_test_image(filename):\n",
    "    with gzip.open(filename) as f:\n",
    "        data=np.frombuffer(f.read(),dtype=np.uint8,offset=16)\n",
    "        data=data.reshape((10000,784))\n",
    "    return data\n",
    "def load_test_label(filename):\n",
    "    with gzip.open(filename) as f:\n",
    "        data=np.frombuffer(f.read(),dtype=np.uint8,offset=8)\n",
    "    return data\n",
    "X_test=load_test_image('t10k-images-idx3-ubyte.gz')\n",
    "Y_test=load_test_label('t10k-labels-idx1-ubyte.gz')"
   ]
  },
  {
   "cell_type": "code",
   "execution_count": 104,
   "metadata": {},
   "outputs": [
    {
     "name": "stdout",
     "output_type": "stream",
     "text": [
      "(1, 10000)\n",
      "(10000, 28, 28)\n"
     ]
    },
    {
     "data": {
      "text/plain": [
       "<matplotlib.image.AxesImage at 0x2e7a480bfd0>"
      ]
     },
     "execution_count": 104,
     "metadata": {},
     "output_type": "execute_result"
    },
    {
     "data": {
      "image/png": "[encoded data removed]",
      "text/plain": [
       "<Figure size 432x288 with 1 Axes>"
      ]
     },
     "metadata": {
      "needs_background": "light"
     },
     "output_type": "display_data"
    }
   ],
   "source": [
    "Y_test = Y_test.reshape(1,-1)\n",
    "print(Y_test.shape)\n",
    "X_test=X_test.reshape(-1,28,28)\n",
    "import matplotlib.pyplot as plt\n",
    "print(X_test.shape)\n",
    "plt.imshow(X_test[22])"
   ]
  },
  {
   "cell_type": "code",
   "execution_count": 105,
   "metadata": {},
   "outputs": [
    {
     "name": "stdout",
     "output_type": "stream",
     "text": [
      "(784, 10000)\n",
      "(10, 10000)\n"
     ]
    }
   ],
   "source": [
    "X_test = X_test.reshape(-1, 28*28).T\n",
    "X_test = X_test/255\n",
    "print(X_test.shape)\n",
    "Y_test = np.eye(10)[Y_test.reshape(-1)].T\n",
    "print(Y_test.shape)"
   ]
  },
  {
   "cell_type": "code",
   "execution_count": 106,
   "metadata": {},
   "outputs": [
    {
     "name": "stdout",
     "output_type": "stream",
     "text": [
      "0.35729395866780894\n"
     ]
    }
   ],
   "source": [
    "test_A = forward_propagation(X_test, W, b)\n",
    "test_cost = compute_cost(Y_test, test_A)\n",
    "print(test_cost)"
   ]
  },
  {
   "cell_type": "code",
   "execution_count": 107,
   "metadata": {},
   "outputs": [
    {
     "name": "stdout",
     "output_type": "stream",
     "text": [
      "[5.37323109e-09 2.44929424e-07 8.53464258e-04 8.97817312e-07\n",
      " 2.97617506e-03 1.67227994e-08 9.96145696e-01 8.35574220e-12\n",
      " 2.34993513e-05 3.76398375e-10]\n",
      "[0. 0. 0. 0. 0. 0. 1. 0. 0. 0.]\n"
     ]
    }
   ],
   "source": [
    "print(test_A[:, 22])\n",
    "print(Y_test[:, 22])"
   ]
  },
  {
   "cell_type": "code",
   "execution_count": 108,
   "metadata": {},
   "outputs": [
    {
     "name": "stdout",
     "output_type": "stream",
     "text": [
      "[[0. 0. 0. ... 0. 0. 0.]\n",
      " [0. 0. 0. ... 0. 0. 0.]\n",
      " [0. 0. 0. ... 0. 0. 0.]\n",
      " ...\n",
      " [0. 0. 0. ... 0. 0. 0.]\n",
      " [0. 0. 0. ... 0. 0. 0.]\n",
      " [0. 0. 0. ... 0. 0. 0.]]\n",
      "2\n"
     ]
    }
   ],
   "source": [
    "test_A1 = np.zeros((Y_test.shape[0],Y_test.shape[1]))\n",
    "print(test_A1)\n",
    "print(np.argmax(test_A[:, 1], axis = 0))\n",
    "for i in range(Y_test.shape[1]):\n",
    "    test_A1[np.argmax(test_A[:, i], axis = 0), i] = 1"
   ]
  },
  {
   "cell_type": "code",
   "execution_count": 109,
   "metadata": {},
   "outputs": [
    {
     "name": "stdout",
     "output_type": "stream",
     "text": [
      "[[0. 0. 0. ... 0. 0. 0.]\n",
      " [0. 0. 1. ... 0. 0. 0.]\n",
      " [0. 1. 0. ... 0. 0. 0.]\n",
      " ...\n",
      " [1. 0. 0. ... 0. 0. 0.]\n",
      " [0. 0. 0. ... 0. 0. 0.]\n",
      " [0. 0. 0. ... 0. 0. 0.]]\n"
     ]
    }
   ],
   "source": [
    "print(test_A1)"
   ]
  },
  {
   "cell_type": "code",
   "execution_count": 110,
   "metadata": {},
   "outputs": [
    {
     "name": "stdout",
     "output_type": "stream",
     "text": [
      "(10, 10000)\n",
      "[0. 0. 0. 0. 0. 0. 0. 0. 0. 0.]\n",
      "[0. 0. 0. 0. 0. 0. 0. 0. 0. 0.]\n"
     ]
    }
   ],
   "source": [
    "test_A1 = test_A1 - Y_test\n",
    "print(test_A1.shape)\n",
    "print(test_A1[:, 0])\n",
    "test_A1 = np.square(test_A1)\n",
    "print(test_A1[:, 0])"
   ]
  },
  {
   "cell_type": "code",
   "execution_count": 111,
   "metadata": {},
   "outputs": [
    {
     "name": "stdout",
     "output_type": "stream",
     "text": [
      "8.33\n"
     ]
    }
   ],
   "source": [
    "error = np.sum(test_A1)*100/(2*Y_test.shape[1])\n",
    "print(error)"
   ]
  },
  {
   "cell_type": "code",
   "execution_count": null,
   "metadata": {},
   "outputs": [],
   "source": []
  }
 ],
 "metadata": {
  "kernelspec": {
   "display_name": "Python 3",
   "language": "python",
   "name": "python3"
  },
  "language_info": {
   "codemirror_mode": {
    "name": "ipython",
    "version": 3
   },
   "file_extension": ".py",
   "mimetype": "text/x-python",
   "name": "python",
   "nbconvert_exporter": "python",
   "pygments_lexer": "ipython3",
   "version": "3.7.3"
  }
 },
 "nbformat": 4,
 "nbformat_minor": 2
}
